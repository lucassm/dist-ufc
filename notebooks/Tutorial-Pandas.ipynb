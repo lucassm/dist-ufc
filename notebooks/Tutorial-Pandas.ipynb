{
 "cells": [
  {
   "cell_type": "code",
   "execution_count": 1,
   "id": "2a0cc4d2-2428-464f-be4a-df77d99b1f2d",
   "metadata": {
    "tags": []
   },
   "outputs": [],
   "source": [
    "import numpy as np\n",
    "import pandas as pd"
   ]
  },
  {
   "cell_type": "markdown",
   "id": "3a92e1d2-7431-40dc-a7c2-c7cc69571d93",
   "metadata": {},
   "source": [
    "## Principais Estruturas de Dados\n",
    "\n",
    "- **Séries**; e \n",
    "- **DataFrames**."
   ]
  },
  {
   "cell_type": "code",
   "execution_count": 2,
   "id": "928f0406-9b86-4acb-8307-1a68ff89b439",
   "metadata": {
    "tags": []
   },
   "outputs": [
    {
     "data": {
      "text/plain": [
       "0         1\n",
       "1         3\n",
       "2         5\n",
       "3       NaN\n",
       "4         6\n",
       "5     hello\n",
       "6    world!\n",
       "dtype: object"
      ]
     },
     "execution_count": 2,
     "metadata": {},
     "output_type": "execute_result"
    }
   ],
   "source": [
    "# criação de um objeto series\n",
    "s = pd.Series([1, 3, 5, np.nan, 6, 'hello', 'world!'])\n",
    "s"
   ]
  },
  {
   "cell_type": "code",
   "execution_count": 3,
   "id": "512baa52-fcdb-44e2-9522-383ea4fd93d2",
   "metadata": {
    "tags": []
   },
   "outputs": [
    {
     "data": {
      "text/plain": [
       "DatetimeIndex(['2023-01-01', '2023-01-02', '2023-01-03', '2023-01-04',\n",
       "               '2023-01-05', '2023-01-06'],\n",
       "              dtype='datetime64[ns]', freq='D')"
      ]
     },
     "execution_count": 3,
     "metadata": {},
     "output_type": "execute_result"
    }
   ],
   "source": [
    "dates = pd.date_range(\"2023-01-01\", periods=6)\n",
    "dates"
   ]
  },
  {
   "cell_type": "code",
   "execution_count": 4,
   "id": "03af514f-b639-4d8e-8f51-7300e3e1ee2c",
   "metadata": {},
   "outputs": [],
   "source": [
    "df = pd.DataFrame(\n",
    "    {\n",
    "        \"A\": pd.Series(np.random.randn(8), dtype=\"float16\"),\n",
    "        \"B\": pd.Series(np.random.randn(8)),\n",
    "        \"C\": pd.Series(np.random.randint(0, 255, size=8), dtype=\"uint8\"),  # [0,255] (range of uint8)\n",
    "    }\n",
    ")"
   ]
  },
  {
   "cell_type": "code",
   "execution_count": 5,
   "id": "fbded959-f8d2-46a4-b9a4-0ee201861393",
   "metadata": {},
   "outputs": [
    {
     "data": {
      "text/html": [
       "<div>\n",
       "<style scoped>\n",
       "    .dataframe tbody tr th:only-of-type {\n",
       "        vertical-align: middle;\n",
       "    }\n",
       "\n",
       "    .dataframe tbody tr th {\n",
       "        vertical-align: top;\n",
       "    }\n",
       "\n",
       "    .dataframe thead th {\n",
       "        text-align: right;\n",
       "    }\n",
       "</style>\n",
       "<table border=\"1\" class=\"dataframe\">\n",
       "  <thead>\n",
       "    <tr style=\"text-align: right;\">\n",
       "      <th></th>\n",
       "      <th>A</th>\n",
       "      <th>B</th>\n",
       "      <th>C</th>\n",
       "    </tr>\n",
       "  </thead>\n",
       "  <tbody>\n",
       "    <tr>\n",
       "      <th>0</th>\n",
       "      <td>1.785156</td>\n",
       "      <td>0.301407</td>\n",
       "      <td>64</td>\n",
       "    </tr>\n",
       "    <tr>\n",
       "      <th>1</th>\n",
       "      <td>0.463867</td>\n",
       "      <td>-0.805937</td>\n",
       "      <td>24</td>\n",
       "    </tr>\n",
       "    <tr>\n",
       "      <th>2</th>\n",
       "      <td>-0.082397</td>\n",
       "      <td>0.889976</td>\n",
       "      <td>172</td>\n",
       "    </tr>\n",
       "    <tr>\n",
       "      <th>3</th>\n",
       "      <td>1.237305</td>\n",
       "      <td>0.768426</td>\n",
       "      <td>78</td>\n",
       "    </tr>\n",
       "    <tr>\n",
       "      <th>4</th>\n",
       "      <td>-0.750000</td>\n",
       "      <td>-0.909232</td>\n",
       "      <td>186</td>\n",
       "    </tr>\n",
       "    <tr>\n",
       "      <th>5</th>\n",
       "      <td>1.657227</td>\n",
       "      <td>-1.429747</td>\n",
       "      <td>79</td>\n",
       "    </tr>\n",
       "    <tr>\n",
       "      <th>6</th>\n",
       "      <td>-0.493652</td>\n",
       "      <td>-0.273777</td>\n",
       "      <td>130</td>\n",
       "    </tr>\n",
       "    <tr>\n",
       "      <th>7</th>\n",
       "      <td>-0.215454</td>\n",
       "      <td>-0.522840</td>\n",
       "      <td>200</td>\n",
       "    </tr>\n",
       "  </tbody>\n",
       "</table>\n",
       "</div>"
      ],
      "text/plain": [
       "          A         B    C\n",
       "0  1.785156  0.301407   64\n",
       "1  0.463867 -0.805937   24\n",
       "2 -0.082397  0.889976  172\n",
       "3  1.237305  0.768426   78\n",
       "4 -0.750000 -0.909232  186\n",
       "5  1.657227 -1.429747   79\n",
       "6 -0.493652 -0.273777  130\n",
       "7 -0.215454 -0.522840  200"
      ]
     },
     "execution_count": 5,
     "metadata": {},
     "output_type": "execute_result"
    }
   ],
   "source": [
    "df"
   ]
  },
  {
   "cell_type": "code",
   "execution_count": 6,
   "id": "db3beb2f-51da-4ad7-bf05-4e66234cd349",
   "metadata": {
    "tags": []
   },
   "outputs": [
    {
     "data": {
      "text/html": [
       "<div>\n",
       "<style scoped>\n",
       "    .dataframe tbody tr th:only-of-type {\n",
       "        vertical-align: middle;\n",
       "    }\n",
       "\n",
       "    .dataframe tbody tr th {\n",
       "        vertical-align: top;\n",
       "    }\n",
       "\n",
       "    .dataframe thead th {\n",
       "        text-align: right;\n",
       "    }\n",
       "</style>\n",
       "<table border=\"1\" class=\"dataframe\">\n",
       "  <thead>\n",
       "    <tr style=\"text-align: right;\">\n",
       "      <th></th>\n",
       "      <th>A</th>\n",
       "      <th>B</th>\n",
       "      <th>C</th>\n",
       "      <th>D</th>\n",
       "    </tr>\n",
       "  </thead>\n",
       "  <tbody>\n",
       "    <tr>\n",
       "      <th>2023-01-01</th>\n",
       "      <td>1.278071</td>\n",
       "      <td>-3.195793</td>\n",
       "      <td>1.906068</td>\n",
       "      <td>-0.686563</td>\n",
       "    </tr>\n",
       "    <tr>\n",
       "      <th>2023-01-02</th>\n",
       "      <td>-0.566643</td>\n",
       "      <td>0.643199</td>\n",
       "      <td>-0.527414</td>\n",
       "      <td>1.263253</td>\n",
       "    </tr>\n",
       "    <tr>\n",
       "      <th>2023-01-03</th>\n",
       "      <td>0.239780</td>\n",
       "      <td>1.831121</td>\n",
       "      <td>-1.519589</td>\n",
       "      <td>0.048535</td>\n",
       "    </tr>\n",
       "    <tr>\n",
       "      <th>2023-01-04</th>\n",
       "      <td>-1.342763</td>\n",
       "      <td>3.041410</td>\n",
       "      <td>0.082253</td>\n",
       "      <td>-0.730959</td>\n",
       "    </tr>\n",
       "    <tr>\n",
       "      <th>2023-01-05</th>\n",
       "      <td>0.721487</td>\n",
       "      <td>0.792479</td>\n",
       "      <td>0.631947</td>\n",
       "      <td>-0.047833</td>\n",
       "    </tr>\n",
       "    <tr>\n",
       "      <th>2023-01-06</th>\n",
       "      <td>1.227670</td>\n",
       "      <td>-0.831991</td>\n",
       "      <td>0.613382</td>\n",
       "      <td>-0.051107</td>\n",
       "    </tr>\n",
       "  </tbody>\n",
       "</table>\n",
       "</div>"
      ],
      "text/plain": [
       "                   A         B         C         D\n",
       "2023-01-01  1.278071 -3.195793  1.906068 -0.686563\n",
       "2023-01-02 -0.566643  0.643199 -0.527414  1.263253\n",
       "2023-01-03  0.239780  1.831121 -1.519589  0.048535\n",
       "2023-01-04 -1.342763  3.041410  0.082253 -0.730959\n",
       "2023-01-05  0.721487  0.792479  0.631947 -0.047833\n",
       "2023-01-06  1.227670 -0.831991  0.613382 -0.051107"
      ]
     },
     "execution_count": 6,
     "metadata": {},
     "output_type": "execute_result"
    }
   ],
   "source": [
    "# criação de um objeto Dataframe com dados aleatórios\n",
    "# de 6 linhas e 4 colunas gearados a partir da função\n",
    "# np.random.randn(m, n)\n",
    "# As colunas são nomeadas de A, B, C e D\n",
    "df = pd.DataFrame(np.random.randn(6, 4),index=dates, columns=list(\"ABCD\"))\n",
    "df"
   ]
  },
  {
   "cell_type": "markdown",
   "id": "5aa8dd2f-342c-4e9b-83d2-62afc9104e1f",
   "metadata": {},
   "source": [
    "## Visualizando os Dados"
   ]
  },
  {
   "cell_type": "code",
   "execution_count": 7,
   "id": "27d157fc-2274-475e-94a1-c9108612ad02",
   "metadata": {
    "tags": []
   },
   "outputs": [
    {
     "data": {
      "text/html": [
       "<div>\n",
       "<style scoped>\n",
       "    .dataframe tbody tr th:only-of-type {\n",
       "        vertical-align: middle;\n",
       "    }\n",
       "\n",
       "    .dataframe tbody tr th {\n",
       "        vertical-align: top;\n",
       "    }\n",
       "\n",
       "    .dataframe thead th {\n",
       "        text-align: right;\n",
       "    }\n",
       "</style>\n",
       "<table border=\"1\" class=\"dataframe\">\n",
       "  <thead>\n",
       "    <tr style=\"text-align: right;\">\n",
       "      <th></th>\n",
       "      <th>A</th>\n",
       "      <th>B</th>\n",
       "      <th>C</th>\n",
       "      <th>D</th>\n",
       "    </tr>\n",
       "  </thead>\n",
       "  <tbody>\n",
       "    <tr>\n",
       "      <th>2023-01-01</th>\n",
       "      <td>1.278071</td>\n",
       "      <td>-3.195793</td>\n",
       "      <td>1.906068</td>\n",
       "      <td>-0.686563</td>\n",
       "    </tr>\n",
       "    <tr>\n",
       "      <th>2023-01-02</th>\n",
       "      <td>-0.566643</td>\n",
       "      <td>0.643199</td>\n",
       "      <td>-0.527414</td>\n",
       "      <td>1.263253</td>\n",
       "    </tr>\n",
       "    <tr>\n",
       "      <th>2023-01-03</th>\n",
       "      <td>0.239780</td>\n",
       "      <td>1.831121</td>\n",
       "      <td>-1.519589</td>\n",
       "      <td>0.048535</td>\n",
       "    </tr>\n",
       "  </tbody>\n",
       "</table>\n",
       "</div>"
      ],
      "text/plain": [
       "                   A         B         C         D\n",
       "2023-01-01  1.278071 -3.195793  1.906068 -0.686563\n",
       "2023-01-02 -0.566643  0.643199 -0.527414  1.263253\n",
       "2023-01-03  0.239780  1.831121 -1.519589  0.048535"
      ]
     },
     "execution_count": 7,
     "metadata": {},
     "output_type": "execute_result"
    }
   ],
   "source": [
    "# Por padrão pandas sempre aplica as operações\n",
    "# realizadas pelo usuário nas linhas e não nas colunas\n",
    "\n",
    "# head() retorna as n primeiras linhas do DataFame \n",
    "df.head(3)"
   ]
  },
  {
   "cell_type": "code",
   "execution_count": 8,
   "id": "b77966be-214f-464d-8c82-10ed4dd5fd36",
   "metadata": {},
   "outputs": [
    {
     "data": {
      "text/html": [
       "<div>\n",
       "<style scoped>\n",
       "    .dataframe tbody tr th:only-of-type {\n",
       "        vertical-align: middle;\n",
       "    }\n",
       "\n",
       "    .dataframe tbody tr th {\n",
       "        vertical-align: top;\n",
       "    }\n",
       "\n",
       "    .dataframe thead th {\n",
       "        text-align: right;\n",
       "    }\n",
       "</style>\n",
       "<table border=\"1\" class=\"dataframe\">\n",
       "  <thead>\n",
       "    <tr style=\"text-align: right;\">\n",
       "      <th></th>\n",
       "      <th>A</th>\n",
       "      <th>B</th>\n",
       "      <th>C</th>\n",
       "      <th>D</th>\n",
       "    </tr>\n",
       "  </thead>\n",
       "  <tbody>\n",
       "    <tr>\n",
       "      <th>2023-01-01</th>\n",
       "      <td>1.278071</td>\n",
       "      <td>-3.195793</td>\n",
       "      <td>1.906068</td>\n",
       "      <td>-0.686563</td>\n",
       "    </tr>\n",
       "    <tr>\n",
       "      <th>2023-01-02</th>\n",
       "      <td>-0.566643</td>\n",
       "      <td>0.643199</td>\n",
       "      <td>-0.527414</td>\n",
       "      <td>1.263253</td>\n",
       "    </tr>\n",
       "    <tr>\n",
       "      <th>2023-01-03</th>\n",
       "      <td>0.239780</td>\n",
       "      <td>1.831121</td>\n",
       "      <td>-1.519589</td>\n",
       "      <td>0.048535</td>\n",
       "    </tr>\n",
       "  </tbody>\n",
       "</table>\n",
       "</div>"
      ],
      "text/plain": [
       "                   A         B         C         D\n",
       "2023-01-01  1.278071 -3.195793  1.906068 -0.686563\n",
       "2023-01-02 -0.566643  0.643199 -0.527414  1.263253\n",
       "2023-01-03  0.239780  1.831121 -1.519589  0.048535"
      ]
     },
     "execution_count": 8,
     "metadata": {},
     "output_type": "execute_result"
    }
   ],
   "source": [
    "# A seleção das primeiras linhas também pode ser feita dessa forma: \n",
    "df[:3]"
   ]
  },
  {
   "cell_type": "code",
   "execution_count": 9,
   "id": "18dafea0-1db8-4240-a6ed-4f076e0684b2",
   "metadata": {
    "tags": []
   },
   "outputs": [
    {
     "data": {
      "text/html": [
       "<div>\n",
       "<style scoped>\n",
       "    .dataframe tbody tr th:only-of-type {\n",
       "        vertical-align: middle;\n",
       "    }\n",
       "\n",
       "    .dataframe tbody tr th {\n",
       "        vertical-align: top;\n",
       "    }\n",
       "\n",
       "    .dataframe thead th {\n",
       "        text-align: right;\n",
       "    }\n",
       "</style>\n",
       "<table border=\"1\" class=\"dataframe\">\n",
       "  <thead>\n",
       "    <tr style=\"text-align: right;\">\n",
       "      <th></th>\n",
       "      <th>A</th>\n",
       "      <th>B</th>\n",
       "      <th>C</th>\n",
       "      <th>D</th>\n",
       "    </tr>\n",
       "  </thead>\n",
       "  <tbody>\n",
       "    <tr>\n",
       "      <th>2023-01-03</th>\n",
       "      <td>0.239780</td>\n",
       "      <td>1.831121</td>\n",
       "      <td>-1.519589</td>\n",
       "      <td>0.048535</td>\n",
       "    </tr>\n",
       "    <tr>\n",
       "      <th>2023-01-04</th>\n",
       "      <td>-1.342763</td>\n",
       "      <td>3.041410</td>\n",
       "      <td>0.082253</td>\n",
       "      <td>-0.730959</td>\n",
       "    </tr>\n",
       "    <tr>\n",
       "      <th>2023-01-05</th>\n",
       "      <td>0.721487</td>\n",
       "      <td>0.792479</td>\n",
       "      <td>0.631947</td>\n",
       "      <td>-0.047833</td>\n",
       "    </tr>\n",
       "    <tr>\n",
       "      <th>2023-01-06</th>\n",
       "      <td>1.227670</td>\n",
       "      <td>-0.831991</td>\n",
       "      <td>0.613382</td>\n",
       "      <td>-0.051107</td>\n",
       "    </tr>\n",
       "  </tbody>\n",
       "</table>\n",
       "</div>"
      ],
      "text/plain": [
       "                   A         B         C         D\n",
       "2023-01-03  0.239780  1.831121 -1.519589  0.048535\n",
       "2023-01-04 -1.342763  3.041410  0.082253 -0.730959\n",
       "2023-01-05  0.721487  0.792479  0.631947 -0.047833\n",
       "2023-01-06  1.227670 -0.831991  0.613382 -0.051107"
      ]
     },
     "execution_count": 9,
     "metadata": {},
     "output_type": "execute_result"
    }
   ],
   "source": [
    "# tail() retorna as n últimas linhas do DataFrame\n",
    "df.tail(4)"
   ]
  },
  {
   "cell_type": "code",
   "execution_count": 10,
   "id": "83924902-93c2-494b-b511-2413fc98d8d9",
   "metadata": {},
   "outputs": [
    {
     "data": {
      "text/html": [
       "<div>\n",
       "<style scoped>\n",
       "    .dataframe tbody tr th:only-of-type {\n",
       "        vertical-align: middle;\n",
       "    }\n",
       "\n",
       "    .dataframe tbody tr th {\n",
       "        vertical-align: top;\n",
       "    }\n",
       "\n",
       "    .dataframe thead th {\n",
       "        text-align: right;\n",
       "    }\n",
       "</style>\n",
       "<table border=\"1\" class=\"dataframe\">\n",
       "  <thead>\n",
       "    <tr style=\"text-align: right;\">\n",
       "      <th></th>\n",
       "      <th>A</th>\n",
       "      <th>B</th>\n",
       "      <th>C</th>\n",
       "      <th>D</th>\n",
       "    </tr>\n",
       "  </thead>\n",
       "  <tbody>\n",
       "    <tr>\n",
       "      <th>2023-01-03</th>\n",
       "      <td>0.239780</td>\n",
       "      <td>1.831121</td>\n",
       "      <td>-1.519589</td>\n",
       "      <td>0.048535</td>\n",
       "    </tr>\n",
       "    <tr>\n",
       "      <th>2023-01-04</th>\n",
       "      <td>-1.342763</td>\n",
       "      <td>3.041410</td>\n",
       "      <td>0.082253</td>\n",
       "      <td>-0.730959</td>\n",
       "    </tr>\n",
       "    <tr>\n",
       "      <th>2023-01-05</th>\n",
       "      <td>0.721487</td>\n",
       "      <td>0.792479</td>\n",
       "      <td>0.631947</td>\n",
       "      <td>-0.047833</td>\n",
       "    </tr>\n",
       "    <tr>\n",
       "      <th>2023-01-06</th>\n",
       "      <td>1.227670</td>\n",
       "      <td>-0.831991</td>\n",
       "      <td>0.613382</td>\n",
       "      <td>-0.051107</td>\n",
       "    </tr>\n",
       "  </tbody>\n",
       "</table>\n",
       "</div>"
      ],
      "text/plain": [
       "                   A         B         C         D\n",
       "2023-01-03  0.239780  1.831121 -1.519589  0.048535\n",
       "2023-01-04 -1.342763  3.041410  0.082253 -0.730959\n",
       "2023-01-05  0.721487  0.792479  0.631947 -0.047833\n",
       "2023-01-06  1.227670 -0.831991  0.613382 -0.051107"
      ]
     },
     "execution_count": 10,
     "metadata": {},
     "output_type": "execute_result"
    }
   ],
   "source": [
    "# A seleção das últimas linhas também pode ser feita dessa forma:\n",
    "df[-4:]"
   ]
  },
  {
   "cell_type": "code",
   "execution_count": 11,
   "id": "3457148b-9b0b-401d-a992-aad78ce2f8d3",
   "metadata": {
    "tags": []
   },
   "outputs": [
    {
     "data": {
      "text/plain": [
       "DatetimeIndex(['2023-01-01', '2023-01-02', '2023-01-03', '2023-01-04',\n",
       "               '2023-01-05', '2023-01-06'],\n",
       "              dtype='datetime64[ns]', freq='D')"
      ]
     },
     "execution_count": 11,
     "metadata": {},
     "output_type": "execute_result"
    }
   ],
   "source": [
    "# atributo index armazena os nomes dos índices das linhas do DataFrame\n",
    "df.index"
   ]
  },
  {
   "cell_type": "code",
   "execution_count": 12,
   "id": "b2bb2554-9962-4b0b-9d15-084b2af4f172",
   "metadata": {
    "tags": []
   },
   "outputs": [
    {
     "data": {
      "text/plain": [
       "Index(['A', 'B', 'C', 'D'], dtype='object')"
      ]
     },
     "execution_count": 12,
     "metadata": {},
     "output_type": "execute_result"
    }
   ],
   "source": [
    "# atributo columns armazena os nomes das colunas do DataFrame\n",
    "df.columns"
   ]
  },
  {
   "cell_type": "markdown",
   "id": "8cec2055-015a-42d6-831f-9d96fb73bc0e",
   "metadata": {},
   "source": [
    "DataFrame.to_numpy() gives a NumPy representation of the underlying data.\n",
    "\n",
    "Note that this can be an expensive operation when **your DataFrame has columns with different data types**, which comes down to a fundamental difference between pandas and NumPy:\n",
    "\n",
    "<p style='color: red;'> <b>NumPy</b> arrays have one dtype for the entire array, while <b>pandas DataFrames</b> have one dtype per column</p>"
   ]
  },
  {
   "cell_type": "code",
   "execution_count": 13,
   "id": "ee5dd324-76b5-4104-aa3c-0a74fbd4639f",
   "metadata": {
    "tags": []
   },
   "outputs": [
    {
     "data": {
      "text/plain": [
       "array([[ 1.27807143, -3.19579253,  1.90606793, -0.68656345],\n",
       "       [-0.5666427 ,  0.64319861, -0.52741429,  1.26325326],\n",
       "       [ 0.23977994,  1.83112118, -1.51958913,  0.04853526],\n",
       "       [-1.34276317,  3.04141025,  0.08225301, -0.73095856],\n",
       "       [ 0.72148742,  0.79247914,  0.63194671, -0.04783346],\n",
       "       [ 1.22767022, -0.83199104,  0.6133823 , -0.05110677]])"
      ]
     },
     "execution_count": 13,
     "metadata": {},
     "output_type": "execute_result"
    }
   ],
   "source": [
    "df.to_numpy()"
   ]
  },
  {
   "cell_type": "code",
   "execution_count": 14,
   "id": "a54c29b7-c6d1-473e-8a47-d8880ab3703e",
   "metadata": {
    "tags": []
   },
   "outputs": [
    {
     "data": {
      "text/html": [
       "<div>\n",
       "<style scoped>\n",
       "    .dataframe tbody tr th:only-of-type {\n",
       "        vertical-align: middle;\n",
       "    }\n",
       "\n",
       "    .dataframe tbody tr th {\n",
       "        vertical-align: top;\n",
       "    }\n",
       "\n",
       "    .dataframe thead th {\n",
       "        text-align: right;\n",
       "    }\n",
       "</style>\n",
       "<table border=\"1\" class=\"dataframe\">\n",
       "  <thead>\n",
       "    <tr style=\"text-align: right;\">\n",
       "      <th></th>\n",
       "      <th>A</th>\n",
       "      <th>B</th>\n",
       "      <th>C</th>\n",
       "      <th>D</th>\n",
       "    </tr>\n",
       "  </thead>\n",
       "  <tbody>\n",
       "    <tr>\n",
       "      <th>count</th>\n",
       "      <td>6.000000</td>\n",
       "      <td>6.000000</td>\n",
       "      <td>6.000000</td>\n",
       "      <td>6.000000</td>\n",
       "    </tr>\n",
       "    <tr>\n",
       "      <th>mean</th>\n",
       "      <td>0.259601</td>\n",
       "      <td>0.380071</td>\n",
       "      <td>0.197774</td>\n",
       "      <td>-0.034112</td>\n",
       "    </tr>\n",
       "    <tr>\n",
       "      <th>std</th>\n",
       "      <td>1.042921</td>\n",
       "      <td>2.176395</td>\n",
       "      <td>1.163450</td>\n",
       "      <td>0.721353</td>\n",
       "    </tr>\n",
       "    <tr>\n",
       "      <th>min</th>\n",
       "      <td>-1.342763</td>\n",
       "      <td>-3.195793</td>\n",
       "      <td>-1.519589</td>\n",
       "      <td>-0.730959</td>\n",
       "    </tr>\n",
       "    <tr>\n",
       "      <th>25%</th>\n",
       "      <td>-0.365037</td>\n",
       "      <td>-0.463194</td>\n",
       "      <td>-0.374997</td>\n",
       "      <td>-0.527699</td>\n",
       "    </tr>\n",
       "    <tr>\n",
       "      <th>50%</th>\n",
       "      <td>0.480634</td>\n",
       "      <td>0.717839</td>\n",
       "      <td>0.347818</td>\n",
       "      <td>-0.049470</td>\n",
       "    </tr>\n",
       "    <tr>\n",
       "      <th>75%</th>\n",
       "      <td>1.101125</td>\n",
       "      <td>1.571461</td>\n",
       "      <td>0.627306</td>\n",
       "      <td>0.024443</td>\n",
       "    </tr>\n",
       "    <tr>\n",
       "      <th>max</th>\n",
       "      <td>1.278071</td>\n",
       "      <td>3.041410</td>\n",
       "      <td>1.906068</td>\n",
       "      <td>1.263253</td>\n",
       "    </tr>\n",
       "  </tbody>\n",
       "</table>\n",
       "</div>"
      ],
      "text/plain": [
       "              A         B         C         D\n",
       "count  6.000000  6.000000  6.000000  6.000000\n",
       "mean   0.259601  0.380071  0.197774 -0.034112\n",
       "std    1.042921  2.176395  1.163450  0.721353\n",
       "min   -1.342763 -3.195793 -1.519589 -0.730959\n",
       "25%   -0.365037 -0.463194 -0.374997 -0.527699\n",
       "50%    0.480634  0.717839  0.347818 -0.049470\n",
       "75%    1.101125  1.571461  0.627306  0.024443\n",
       "max    1.278071  3.041410  1.906068  1.263253"
      ]
     },
     "execution_count": 14,
     "metadata": {},
     "output_type": "execute_result"
    }
   ],
   "source": [
    "# Um pequeno resumo estatístico do conjunto de dados\n",
    "df.describe()"
   ]
  },
  {
   "cell_type": "code",
   "execution_count": 15,
   "id": "714bafaa-348a-4984-8be0-1339f30b72d5",
   "metadata": {
    "tags": []
   },
   "outputs": [
    {
     "data": {
      "text/html": [
       "<div>\n",
       "<style scoped>\n",
       "    .dataframe tbody tr th:only-of-type {\n",
       "        vertical-align: middle;\n",
       "    }\n",
       "\n",
       "    .dataframe tbody tr th {\n",
       "        vertical-align: top;\n",
       "    }\n",
       "\n",
       "    .dataframe thead th {\n",
       "        text-align: right;\n",
       "    }\n",
       "</style>\n",
       "<table border=\"1\" class=\"dataframe\">\n",
       "  <thead>\n",
       "    <tr style=\"text-align: right;\">\n",
       "      <th></th>\n",
       "      <th>2023-01-01</th>\n",
       "      <th>2023-01-02</th>\n",
       "      <th>2023-01-03</th>\n",
       "      <th>2023-01-04</th>\n",
       "      <th>2023-01-05</th>\n",
       "      <th>2023-01-06</th>\n",
       "    </tr>\n",
       "  </thead>\n",
       "  <tbody>\n",
       "    <tr>\n",
       "      <th>A</th>\n",
       "      <td>1.278071</td>\n",
       "      <td>-0.566643</td>\n",
       "      <td>0.239780</td>\n",
       "      <td>-1.342763</td>\n",
       "      <td>0.721487</td>\n",
       "      <td>1.227670</td>\n",
       "    </tr>\n",
       "    <tr>\n",
       "      <th>B</th>\n",
       "      <td>-3.195793</td>\n",
       "      <td>0.643199</td>\n",
       "      <td>1.831121</td>\n",
       "      <td>3.041410</td>\n",
       "      <td>0.792479</td>\n",
       "      <td>-0.831991</td>\n",
       "    </tr>\n",
       "    <tr>\n",
       "      <th>C</th>\n",
       "      <td>1.906068</td>\n",
       "      <td>-0.527414</td>\n",
       "      <td>-1.519589</td>\n",
       "      <td>0.082253</td>\n",
       "      <td>0.631947</td>\n",
       "      <td>0.613382</td>\n",
       "    </tr>\n",
       "    <tr>\n",
       "      <th>D</th>\n",
       "      <td>-0.686563</td>\n",
       "      <td>1.263253</td>\n",
       "      <td>0.048535</td>\n",
       "      <td>-0.730959</td>\n",
       "      <td>-0.047833</td>\n",
       "      <td>-0.051107</td>\n",
       "    </tr>\n",
       "  </tbody>\n",
       "</table>\n",
       "</div>"
      ],
      "text/plain": [
       "   2023-01-01  2023-01-02  2023-01-03  2023-01-04  2023-01-05  2023-01-06\n",
       "A    1.278071   -0.566643    0.239780   -1.342763    0.721487    1.227670\n",
       "B   -3.195793    0.643199    1.831121    3.041410    0.792479   -0.831991\n",
       "C    1.906068   -0.527414   -1.519589    0.082253    0.631947    0.613382\n",
       "D   -0.686563    1.263253    0.048535   -0.730959   -0.047833   -0.051107"
      ]
     },
     "execution_count": 15,
     "metadata": {},
     "output_type": "execute_result"
    }
   ],
   "source": [
    "# transposição de dataframe\n",
    "df.T"
   ]
  },
  {
   "cell_type": "code",
   "execution_count": 16,
   "id": "e4b1b0ff-3418-4be8-95cd-de6f9b267052",
   "metadata": {
    "tags": []
   },
   "outputs": [
    {
     "data": {
      "text/html": [
       "<div>\n",
       "<style scoped>\n",
       "    .dataframe tbody tr th:only-of-type {\n",
       "        vertical-align: middle;\n",
       "    }\n",
       "\n",
       "    .dataframe tbody tr th {\n",
       "        vertical-align: top;\n",
       "    }\n",
       "\n",
       "    .dataframe thead th {\n",
       "        text-align: right;\n",
       "    }\n",
       "</style>\n",
       "<table border=\"1\" class=\"dataframe\">\n",
       "  <thead>\n",
       "    <tr style=\"text-align: right;\">\n",
       "      <th></th>\n",
       "      <th>A</th>\n",
       "      <th>B</th>\n",
       "      <th>C</th>\n",
       "      <th>D</th>\n",
       "    </tr>\n",
       "  </thead>\n",
       "  <tbody>\n",
       "    <tr>\n",
       "      <th>2023-01-06</th>\n",
       "      <td>1.227670</td>\n",
       "      <td>-0.831991</td>\n",
       "      <td>0.613382</td>\n",
       "      <td>-0.051107</td>\n",
       "    </tr>\n",
       "    <tr>\n",
       "      <th>2023-01-05</th>\n",
       "      <td>0.721487</td>\n",
       "      <td>0.792479</td>\n",
       "      <td>0.631947</td>\n",
       "      <td>-0.047833</td>\n",
       "    </tr>\n",
       "    <tr>\n",
       "      <th>2023-01-04</th>\n",
       "      <td>-1.342763</td>\n",
       "      <td>3.041410</td>\n",
       "      <td>0.082253</td>\n",
       "      <td>-0.730959</td>\n",
       "    </tr>\n",
       "    <tr>\n",
       "      <th>2023-01-03</th>\n",
       "      <td>0.239780</td>\n",
       "      <td>1.831121</td>\n",
       "      <td>-1.519589</td>\n",
       "      <td>0.048535</td>\n",
       "    </tr>\n",
       "    <tr>\n",
       "      <th>2023-01-02</th>\n",
       "      <td>-0.566643</td>\n",
       "      <td>0.643199</td>\n",
       "      <td>-0.527414</td>\n",
       "      <td>1.263253</td>\n",
       "    </tr>\n",
       "    <tr>\n",
       "      <th>2023-01-01</th>\n",
       "      <td>1.278071</td>\n",
       "      <td>-3.195793</td>\n",
       "      <td>1.906068</td>\n",
       "      <td>-0.686563</td>\n",
       "    </tr>\n",
       "  </tbody>\n",
       "</table>\n",
       "</div>"
      ],
      "text/plain": [
       "                   A         B         C         D\n",
       "2023-01-06  1.227670 -0.831991  0.613382 -0.051107\n",
       "2023-01-05  0.721487  0.792479  0.631947 -0.047833\n",
       "2023-01-04 -1.342763  3.041410  0.082253 -0.730959\n",
       "2023-01-03  0.239780  1.831121 -1.519589  0.048535\n",
       "2023-01-02 -0.566643  0.643199 -0.527414  1.263253\n",
       "2023-01-01  1.278071 -3.195793  1.906068 -0.686563"
      ]
     },
     "execution_count": 16,
     "metadata": {},
     "output_type": "execute_result"
    }
   ],
   "source": [
    "# ordenação de dataframe pelos nomes dos indices das linhas\n",
    "df.sort_index(ascending=False)"
   ]
  },
  {
   "cell_type": "code",
   "execution_count": 17,
   "id": "72e8abe1-a09c-4b4a-a16a-e81f3417ddf7",
   "metadata": {
    "tags": []
   },
   "outputs": [
    {
     "data": {
      "text/html": [
       "<div>\n",
       "<style scoped>\n",
       "    .dataframe tbody tr th:only-of-type {\n",
       "        vertical-align: middle;\n",
       "    }\n",
       "\n",
       "    .dataframe tbody tr th {\n",
       "        vertical-align: top;\n",
       "    }\n",
       "\n",
       "    .dataframe thead th {\n",
       "        text-align: right;\n",
       "    }\n",
       "</style>\n",
       "<table border=\"1\" class=\"dataframe\">\n",
       "  <thead>\n",
       "    <tr style=\"text-align: right;\">\n",
       "      <th></th>\n",
       "      <th>D</th>\n",
       "      <th>C</th>\n",
       "      <th>B</th>\n",
       "      <th>A</th>\n",
       "    </tr>\n",
       "  </thead>\n",
       "  <tbody>\n",
       "    <tr>\n",
       "      <th>2023-01-01</th>\n",
       "      <td>-0.686563</td>\n",
       "      <td>1.906068</td>\n",
       "      <td>-3.195793</td>\n",
       "      <td>1.278071</td>\n",
       "    </tr>\n",
       "    <tr>\n",
       "      <th>2023-01-02</th>\n",
       "      <td>1.263253</td>\n",
       "      <td>-0.527414</td>\n",
       "      <td>0.643199</td>\n",
       "      <td>-0.566643</td>\n",
       "    </tr>\n",
       "    <tr>\n",
       "      <th>2023-01-03</th>\n",
       "      <td>0.048535</td>\n",
       "      <td>-1.519589</td>\n",
       "      <td>1.831121</td>\n",
       "      <td>0.239780</td>\n",
       "    </tr>\n",
       "    <tr>\n",
       "      <th>2023-01-04</th>\n",
       "      <td>-0.730959</td>\n",
       "      <td>0.082253</td>\n",
       "      <td>3.041410</td>\n",
       "      <td>-1.342763</td>\n",
       "    </tr>\n",
       "    <tr>\n",
       "      <th>2023-01-05</th>\n",
       "      <td>-0.047833</td>\n",
       "      <td>0.631947</td>\n",
       "      <td>0.792479</td>\n",
       "      <td>0.721487</td>\n",
       "    </tr>\n",
       "    <tr>\n",
       "      <th>2023-01-06</th>\n",
       "      <td>-0.051107</td>\n",
       "      <td>0.613382</td>\n",
       "      <td>-0.831991</td>\n",
       "      <td>1.227670</td>\n",
       "    </tr>\n",
       "  </tbody>\n",
       "</table>\n",
       "</div>"
      ],
      "text/plain": [
       "                   D         C         B         A\n",
       "2023-01-01 -0.686563  1.906068 -3.195793  1.278071\n",
       "2023-01-02  1.263253 -0.527414  0.643199 -0.566643\n",
       "2023-01-03  0.048535 -1.519589  1.831121  0.239780\n",
       "2023-01-04 -0.730959  0.082253  3.041410 -1.342763\n",
       "2023-01-05 -0.047833  0.631947  0.792479  0.721487\n",
       "2023-01-06 -0.051107  0.613382 -0.831991  1.227670"
      ]
     },
     "execution_count": 17,
     "metadata": {},
     "output_type": "execute_result"
    }
   ],
   "source": [
    "# ordenação de dataframe pelos nomes das colunas\n",
    "df.sort_index(axis=1, ascending=False)"
   ]
  },
  {
   "cell_type": "code",
   "execution_count": 18,
   "id": "bdd4d47b-7221-4aa3-aceb-7cba7ba553ca",
   "metadata": {
    "tags": []
   },
   "outputs": [
    {
     "data": {
      "text/html": [
       "<div>\n",
       "<style scoped>\n",
       "    .dataframe tbody tr th:only-of-type {\n",
       "        vertical-align: middle;\n",
       "    }\n",
       "\n",
       "    .dataframe tbody tr th {\n",
       "        vertical-align: top;\n",
       "    }\n",
       "\n",
       "    .dataframe thead th {\n",
       "        text-align: right;\n",
       "    }\n",
       "</style>\n",
       "<table border=\"1\" class=\"dataframe\">\n",
       "  <thead>\n",
       "    <tr style=\"text-align: right;\">\n",
       "      <th></th>\n",
       "      <th>A</th>\n",
       "      <th>B</th>\n",
       "      <th>C</th>\n",
       "      <th>D</th>\n",
       "    </tr>\n",
       "  </thead>\n",
       "  <tbody>\n",
       "    <tr>\n",
       "      <th>2023-01-01</th>\n",
       "      <td>1.278071</td>\n",
       "      <td>-3.195793</td>\n",
       "      <td>1.906068</td>\n",
       "      <td>-0.686563</td>\n",
       "    </tr>\n",
       "    <tr>\n",
       "      <th>2023-01-06</th>\n",
       "      <td>1.227670</td>\n",
       "      <td>-0.831991</td>\n",
       "      <td>0.613382</td>\n",
       "      <td>-0.051107</td>\n",
       "    </tr>\n",
       "    <tr>\n",
       "      <th>2023-01-02</th>\n",
       "      <td>-0.566643</td>\n",
       "      <td>0.643199</td>\n",
       "      <td>-0.527414</td>\n",
       "      <td>1.263253</td>\n",
       "    </tr>\n",
       "    <tr>\n",
       "      <th>2023-01-05</th>\n",
       "      <td>0.721487</td>\n",
       "      <td>0.792479</td>\n",
       "      <td>0.631947</td>\n",
       "      <td>-0.047833</td>\n",
       "    </tr>\n",
       "    <tr>\n",
       "      <th>2023-01-03</th>\n",
       "      <td>0.239780</td>\n",
       "      <td>1.831121</td>\n",
       "      <td>-1.519589</td>\n",
       "      <td>0.048535</td>\n",
       "    </tr>\n",
       "    <tr>\n",
       "      <th>2023-01-04</th>\n",
       "      <td>-1.342763</td>\n",
       "      <td>3.041410</td>\n",
       "      <td>0.082253</td>\n",
       "      <td>-0.730959</td>\n",
       "    </tr>\n",
       "  </tbody>\n",
       "</table>\n",
       "</div>"
      ],
      "text/plain": [
       "                   A         B         C         D\n",
       "2023-01-01  1.278071 -3.195793  1.906068 -0.686563\n",
       "2023-01-06  1.227670 -0.831991  0.613382 -0.051107\n",
       "2023-01-02 -0.566643  0.643199 -0.527414  1.263253\n",
       "2023-01-05  0.721487  0.792479  0.631947 -0.047833\n",
       "2023-01-03  0.239780  1.831121 -1.519589  0.048535\n",
       "2023-01-04 -1.342763  3.041410  0.082253 -0.730959"
      ]
     },
     "execution_count": 18,
     "metadata": {},
     "output_type": "execute_result"
    }
   ],
   "source": [
    "# ordenação de dataframe por coluna\n",
    "df.sort_values(by='B')"
   ]
  },
  {
   "cell_type": "markdown",
   "id": "5d1fac5c-5670-43bd-9639-831494427b52",
   "metadata": {},
   "source": [
    "## Seleção de Valores no conjunto de dados"
   ]
  },
  {
   "cell_type": "markdown",
   "id": "c952d25f-1025-4836-acd5-01b33f8da4c3",
   "metadata": {},
   "source": [
    "While standard Python/NumPy expressions for selecting and setting are intuitive and come in handy for interactive work, for production code, we recommend the optimized pandas data access methods:\n",
    "- DataFrame.at(),\n",
    "- DataFrame.iat(),\n",
    "- DataFrame.loc(), and\n",
    "- DataFrame.iloc()."
   ]
  },
  {
   "cell_type": "code",
   "execution_count": 19,
   "id": "751a760d-2d06-4d4f-8bf6-527eba1e7a23",
   "metadata": {},
   "outputs": [],
   "source": [
    "# Busca por um único valor no dataframe\n",
    "# ['label_row', 'label_column']\n",
    "# pd.DataFrame.at??\n",
    "# pd.DataFrame.iat??\n",
    "\n",
    "# Busca por um conjunto de valores no dataframe\n",
    "# ['label_row']\n",
    "# pd.DataFrame.loc??\n",
    "# pd.DataFrame.iloc??"
   ]
  },
  {
   "cell_type": "markdown",
   "id": "8f6500a9-94c0-4305-bea5-42a85d5f83c2",
   "metadata": {},
   "source": [
    "### Seleção de Todas as Linhas pelos nomes das Colunas"
   ]
  },
  {
   "cell_type": "code",
   "execution_count": 20,
   "id": "38e3c872-a47d-4f00-bd47-ed4891b34743",
   "metadata": {
    "tags": []
   },
   "outputs": [
    {
     "data": {
      "text/plain": [
       "2023-01-01    1.278071\n",
       "2023-01-02   -0.566643\n",
       "2023-01-03    0.239780\n",
       "2023-01-04   -1.342763\n",
       "2023-01-05    0.721487\n",
       "2023-01-06    1.227670\n",
       "Freq: D, Name: A, dtype: float64"
      ]
     },
     "execution_count": 20,
     "metadata": {},
     "output_type": "execute_result"
    }
   ],
   "source": [
    "# retorna uma estrutura de dados do tipo série\n",
    "df.A"
   ]
  },
  {
   "cell_type": "code",
   "execution_count": 21,
   "id": "41bcce76-1a14-46ab-b456-03ed3842f031",
   "metadata": {
    "tags": []
   },
   "outputs": [
    {
     "data": {
      "text/plain": [
       "2023-01-01    1.278071\n",
       "2023-01-02   -0.566643\n",
       "2023-01-03    0.239780\n",
       "2023-01-04   -1.342763\n",
       "2023-01-05    0.721487\n",
       "2023-01-06    1.227670\n",
       "Freq: D, Name: A, dtype: float64"
      ]
     },
     "execution_count": 21,
     "metadata": {},
     "output_type": "execute_result"
    }
   ],
   "source": [
    "# Também pode ser feito dessa forma:\n",
    "df['A']"
   ]
  },
  {
   "cell_type": "markdown",
   "id": "2b978628-f54f-4025-b912-d71c3face625",
   "metadata": {},
   "source": [
    "### Seleção de Quantidade Limitada de Linhas pelos seus Índices"
   ]
  },
  {
   "cell_type": "code",
   "execution_count": 22,
   "id": "84661777-028d-40a7-ab70-73e5a611eb2e",
   "metadata": {
    "tags": []
   },
   "outputs": [
    {
     "data": {
      "text/html": [
       "<div>\n",
       "<style scoped>\n",
       "    .dataframe tbody tr th:only-of-type {\n",
       "        vertical-align: middle;\n",
       "    }\n",
       "\n",
       "    .dataframe tbody tr th {\n",
       "        vertical-align: top;\n",
       "    }\n",
       "\n",
       "    .dataframe thead th {\n",
       "        text-align: right;\n",
       "    }\n",
       "</style>\n",
       "<table border=\"1\" class=\"dataframe\">\n",
       "  <thead>\n",
       "    <tr style=\"text-align: right;\">\n",
       "      <th></th>\n",
       "      <th>A</th>\n",
       "      <th>B</th>\n",
       "      <th>C</th>\n",
       "      <th>D</th>\n",
       "    </tr>\n",
       "  </thead>\n",
       "  <tbody>\n",
       "    <tr>\n",
       "      <th>2023-01-01</th>\n",
       "      <td>1.278071</td>\n",
       "      <td>-3.195793</td>\n",
       "      <td>1.906068</td>\n",
       "      <td>-0.686563</td>\n",
       "    </tr>\n",
       "    <tr>\n",
       "      <th>2023-01-02</th>\n",
       "      <td>-0.566643</td>\n",
       "      <td>0.643199</td>\n",
       "      <td>-0.527414</td>\n",
       "      <td>1.263253</td>\n",
       "    </tr>\n",
       "    <tr>\n",
       "      <th>2023-01-03</th>\n",
       "      <td>0.239780</td>\n",
       "      <td>1.831121</td>\n",
       "      <td>-1.519589</td>\n",
       "      <td>0.048535</td>\n",
       "    </tr>\n",
       "  </tbody>\n",
       "</table>\n",
       "</div>"
      ],
      "text/plain": [
       "                   A         B         C         D\n",
       "2023-01-01  1.278071 -3.195793  1.906068 -0.686563\n",
       "2023-01-02 -0.566643  0.643199 -0.527414  1.263253\n",
       "2023-01-03  0.239780  1.831121 -1.519589  0.048535"
      ]
     },
     "execution_count": 22,
     "metadata": {},
     "output_type": "execute_result"
    }
   ],
   "source": [
    "df[0:3]"
   ]
  },
  {
   "cell_type": "markdown",
   "id": "80fcef0c-58a1-455f-a7a1-c2bdd62a5dc1",
   "metadata": {},
   "source": [
    "### Seleção de Linha pelo Nome do Índice da Linha"
   ]
  },
  {
   "cell_type": "code",
   "execution_count": 23,
   "id": "041ef595-e16d-4a98-bd49-6c94500fac2e",
   "metadata": {
    "tags": []
   },
   "outputs": [
    {
     "data": {
      "text/plain": [
       "A    1.278071\n",
       "B   -3.195793\n",
       "C    1.906068\n",
       "D   -0.686563\n",
       "Name: 2023-01-01 00:00:00, dtype: float64"
      ]
     },
     "execution_count": 23,
     "metadata": {},
     "output_type": "execute_result"
    }
   ],
   "source": [
    "# retorna estrutura de dados Série, pois seleciona apenas uma linha\n",
    "df.loc[dates[0]]"
   ]
  },
  {
   "cell_type": "code",
   "execution_count": 24,
   "id": "030fdfff-8f3d-4eff-b129-5c61a8dedbe9",
   "metadata": {
    "tags": []
   },
   "outputs": [
    {
     "data": {
      "text/html": [
       "<div>\n",
       "<style scoped>\n",
       "    .dataframe tbody tr th:only-of-type {\n",
       "        vertical-align: middle;\n",
       "    }\n",
       "\n",
       "    .dataframe tbody tr th {\n",
       "        vertical-align: top;\n",
       "    }\n",
       "\n",
       "    .dataframe thead th {\n",
       "        text-align: right;\n",
       "    }\n",
       "</style>\n",
       "<table border=\"1\" class=\"dataframe\">\n",
       "  <thead>\n",
       "    <tr style=\"text-align: right;\">\n",
       "      <th></th>\n",
       "      <th>A</th>\n",
       "      <th>B</th>\n",
       "    </tr>\n",
       "  </thead>\n",
       "  <tbody>\n",
       "    <tr>\n",
       "      <th>2023-01-01</th>\n",
       "      <td>1.278071</td>\n",
       "      <td>-3.195793</td>\n",
       "    </tr>\n",
       "    <tr>\n",
       "      <th>2023-01-02</th>\n",
       "      <td>-0.566643</td>\n",
       "      <td>0.643199</td>\n",
       "    </tr>\n",
       "    <tr>\n",
       "      <th>2023-01-03</th>\n",
       "      <td>0.239780</td>\n",
       "      <td>1.831121</td>\n",
       "    </tr>\n",
       "    <tr>\n",
       "      <th>2023-01-04</th>\n",
       "      <td>-1.342763</td>\n",
       "      <td>3.041410</td>\n",
       "    </tr>\n",
       "    <tr>\n",
       "      <th>2023-01-05</th>\n",
       "      <td>0.721487</td>\n",
       "      <td>0.792479</td>\n",
       "    </tr>\n",
       "    <tr>\n",
       "      <th>2023-01-06</th>\n",
       "      <td>1.227670</td>\n",
       "      <td>-0.831991</td>\n",
       "    </tr>\n",
       "  </tbody>\n",
       "</table>\n",
       "</div>"
      ],
      "text/plain": [
       "                   A         B\n",
       "2023-01-01  1.278071 -3.195793\n",
       "2023-01-02 -0.566643  0.643199\n",
       "2023-01-03  0.239780  1.831121\n",
       "2023-01-04 -1.342763  3.041410\n",
       "2023-01-05  0.721487  0.792479\n",
       "2023-01-06  1.227670 -0.831991"
      ]
     },
     "execution_count": 24,
     "metadata": {},
     "output_type": "execute_result"
    }
   ],
   "source": [
    "# retorna DataFrame, pois seleciona múltiplas linhas\n",
    "df.loc[:, ['A', 'B']]"
   ]
  },
  {
   "cell_type": "code",
   "execution_count": 25,
   "id": "84e63262-9754-4f45-871e-f89b291d5fb3",
   "metadata": {
    "tags": []
   },
   "outputs": [
    {
     "data": {
      "text/plain": [
       "1.2780714254107193"
      ]
     },
     "execution_count": 25,
     "metadata": {},
     "output_type": "execute_result"
    }
   ],
   "source": [
    "df.at[dates[0], 'A'] # método para acesso rápido a um valor escalar"
   ]
  },
  {
   "cell_type": "markdown",
   "id": "d1f7ae82-eaac-423e-a661-499054fde292",
   "metadata": {},
   "source": [
    "### Seleção por Posição em Linha"
   ]
  },
  {
   "cell_type": "code",
   "execution_count": 26,
   "id": "43d8cdbc-ffd0-4ed1-a3ee-b740056adfdd",
   "metadata": {
    "tags": []
   },
   "outputs": [
    {
     "data": {
      "text/plain": [
       "A   -1.342763\n",
       "B    3.041410\n",
       "C    0.082253\n",
       "D   -0.730959\n",
       "Name: 2023-01-04 00:00:00, dtype: float64"
      ]
     },
     "execution_count": 26,
     "metadata": {},
     "output_type": "execute_result"
    }
   ],
   "source": [
    "df.iloc[3]"
   ]
  },
  {
   "cell_type": "code",
   "execution_count": 27,
   "id": "58f8ce87-28ed-4f62-aa75-7a5e1af1f48e",
   "metadata": {
    "tags": []
   },
   "outputs": [
    {
     "data": {
      "text/html": [
       "<div>\n",
       "<style scoped>\n",
       "    .dataframe tbody tr th:only-of-type {\n",
       "        vertical-align: middle;\n",
       "    }\n",
       "\n",
       "    .dataframe tbody tr th {\n",
       "        vertical-align: top;\n",
       "    }\n",
       "\n",
       "    .dataframe thead th {\n",
       "        text-align: right;\n",
       "    }\n",
       "</style>\n",
       "<table border=\"1\" class=\"dataframe\">\n",
       "  <thead>\n",
       "    <tr style=\"text-align: right;\">\n",
       "      <th></th>\n",
       "      <th>C</th>\n",
       "      <th>D</th>\n",
       "    </tr>\n",
       "  </thead>\n",
       "  <tbody>\n",
       "    <tr>\n",
       "      <th>2023-01-01</th>\n",
       "      <td>1.906068</td>\n",
       "      <td>-0.686563</td>\n",
       "    </tr>\n",
       "    <tr>\n",
       "      <th>2023-01-02</th>\n",
       "      <td>-0.527414</td>\n",
       "      <td>1.263253</td>\n",
       "    </tr>\n",
       "    <tr>\n",
       "      <th>2023-01-03</th>\n",
       "      <td>-1.519589</td>\n",
       "      <td>0.048535</td>\n",
       "    </tr>\n",
       "  </tbody>\n",
       "</table>\n",
       "</div>"
      ],
      "text/plain": [
       "                   C         D\n",
       "2023-01-01  1.906068 -0.686563\n",
       "2023-01-02 -0.527414  1.263253\n",
       "2023-01-03 -1.519589  0.048535"
      ]
     },
     "execution_count": 27,
     "metadata": {},
     "output_type": "execute_result"
    }
   ],
   "source": [
    "df.iloc[0:3, 2:4]"
   ]
  },
  {
   "cell_type": "code",
   "execution_count": 28,
   "id": "9d0500b7-0ac1-4169-bf59-fe1880dcd4d3",
   "metadata": {
    "tags": []
   },
   "outputs": [
    {
     "data": {
      "text/plain": [
       "0.6431986113224627"
      ]
     },
     "execution_count": 28,
     "metadata": {},
     "output_type": "execute_result"
    }
   ],
   "source": [
    "df.iat[1, 1] # acesso rápido a um valor escalar"
   ]
  },
  {
   "cell_type": "markdown",
   "id": "db3f6dbf-7aa7-4624-b44a-6392aaed9a9d",
   "metadata": {},
   "source": [
    "### Operações Matemáticas no Conjunto de Dados"
   ]
  },
  {
   "cell_type": "code",
   "execution_count": 29,
   "id": "c653c86d-1dcd-48ca-89b4-b872be544f60",
   "metadata": {
    "tags": []
   },
   "outputs": [
    {
     "data": {
      "text/plain": [
       "A    0.259601\n",
       "B    0.380071\n",
       "C    0.197774\n",
       "D   -0.034112\n",
       "dtype: float64"
      ]
     },
     "execution_count": 29,
     "metadata": {},
     "output_type": "execute_result"
    }
   ],
   "source": [
    "# Por padrão as operações são realizadas nos elementos das linhas \n",
    "# e individualizados por colunas\n",
    "df.mean()"
   ]
  },
  {
   "cell_type": "code",
   "execution_count": 30,
   "id": "6524f396-8d20-4a3f-b3da-e9005b5da379",
   "metadata": {
    "tags": []
   },
   "outputs": [
    {
     "data": {
      "text/plain": [
       "2023-01-01    1.906068\n",
       "2023-01-02    1.263253\n",
       "2023-01-03    1.831121\n",
       "2023-01-04    3.041410\n",
       "2023-01-05    0.792479\n",
       "2023-01-06    1.227670\n",
       "Freq: D, dtype: float64"
      ]
     },
     "execution_count": 30,
     "metadata": {},
     "output_type": "execute_result"
    }
   ],
   "source": [
    "# Esse comportamento pode ser alterado, basta inserir o comando\n",
    "# axis=1 como argumento do comando\n",
    "df.max(axis=1)"
   ]
  },
  {
   "cell_type": "markdown",
   "id": "2db9ed55-91ec-4548-85ed-7c360716b664",
   "metadata": {},
   "source": [
    "### Realização de Mesclagem(Merge) de Dataframes"
   ]
  },
  {
   "cell_type": "code",
   "execution_count": 31,
   "id": "87629d45-0df0-4c91-9a39-afeead30162d",
   "metadata": {
    "tags": []
   },
   "outputs": [
    {
     "data": {
      "text/html": [
       "<div>\n",
       "<style scoped>\n",
       "    .dataframe tbody tr th:only-of-type {\n",
       "        vertical-align: middle;\n",
       "    }\n",
       "\n",
       "    .dataframe tbody tr th {\n",
       "        vertical-align: top;\n",
       "    }\n",
       "\n",
       "    .dataframe thead th {\n",
       "        text-align: right;\n",
       "    }\n",
       "</style>\n",
       "<table border=\"1\" class=\"dataframe\">\n",
       "  <thead>\n",
       "    <tr style=\"text-align: right;\">\n",
       "      <th></th>\n",
       "      <th>0</th>\n",
       "      <th>1</th>\n",
       "      <th>2</th>\n",
       "      <th>3</th>\n",
       "    </tr>\n",
       "  </thead>\n",
       "  <tbody>\n",
       "    <tr>\n",
       "      <th>0</th>\n",
       "      <td>-0.021959</td>\n",
       "      <td>-0.027202</td>\n",
       "      <td>-1.204932</td>\n",
       "      <td>0.298547</td>\n",
       "    </tr>\n",
       "    <tr>\n",
       "      <th>1</th>\n",
       "      <td>0.475513</td>\n",
       "      <td>0.028036</td>\n",
       "      <td>-0.293977</td>\n",
       "      <td>-0.343672</td>\n",
       "    </tr>\n",
       "    <tr>\n",
       "      <th>2</th>\n",
       "      <td>-0.832573</td>\n",
       "      <td>0.618215</td>\n",
       "      <td>1.642646</td>\n",
       "      <td>0.791418</td>\n",
       "    </tr>\n",
       "    <tr>\n",
       "      <th>3</th>\n",
       "      <td>-0.431328</td>\n",
       "      <td>0.599712</td>\n",
       "      <td>-0.602314</td>\n",
       "      <td>-0.506019</td>\n",
       "    </tr>\n",
       "    <tr>\n",
       "      <th>4</th>\n",
       "      <td>-1.701176</td>\n",
       "      <td>0.421643</td>\n",
       "      <td>-1.601606</td>\n",
       "      <td>0.517526</td>\n",
       "    </tr>\n",
       "    <tr>\n",
       "      <th>5</th>\n",
       "      <td>0.030243</td>\n",
       "      <td>-0.952449</td>\n",
       "      <td>-1.047719</td>\n",
       "      <td>0.838583</td>\n",
       "    </tr>\n",
       "    <tr>\n",
       "      <th>6</th>\n",
       "      <td>0.521775</td>\n",
       "      <td>-0.581260</td>\n",
       "      <td>0.363606</td>\n",
       "      <td>0.245351</td>\n",
       "    </tr>\n",
       "    <tr>\n",
       "      <th>7</th>\n",
       "      <td>-0.136702</td>\n",
       "      <td>0.532412</td>\n",
       "      <td>-0.174686</td>\n",
       "      <td>-0.253517</td>\n",
       "    </tr>\n",
       "    <tr>\n",
       "      <th>8</th>\n",
       "      <td>-2.240491</td>\n",
       "      <td>0.814609</td>\n",
       "      <td>-1.725717</td>\n",
       "      <td>-0.020140</td>\n",
       "    </tr>\n",
       "    <tr>\n",
       "      <th>9</th>\n",
       "      <td>0.537765</td>\n",
       "      <td>1.231488</td>\n",
       "      <td>0.265394</td>\n",
       "      <td>-1.159250</td>\n",
       "    </tr>\n",
       "  </tbody>\n",
       "</table>\n",
       "</div>"
      ],
      "text/plain": [
       "          0         1         2         3\n",
       "0 -0.021959 -0.027202 -1.204932  0.298547\n",
       "1  0.475513  0.028036 -0.293977 -0.343672\n",
       "2 -0.832573  0.618215  1.642646  0.791418\n",
       "3 -0.431328  0.599712 -0.602314 -0.506019\n",
       "4 -1.701176  0.421643 -1.601606  0.517526\n",
       "5  0.030243 -0.952449 -1.047719  0.838583\n",
       "6  0.521775 -0.581260  0.363606  0.245351\n",
       "7 -0.136702  0.532412 -0.174686 -0.253517\n",
       "8 -2.240491  0.814609 -1.725717 -0.020140\n",
       "9  0.537765  1.231488  0.265394 -1.159250"
      ]
     },
     "execution_count": 31,
     "metadata": {},
     "output_type": "execute_result"
    }
   ],
   "source": [
    "df = pd.DataFrame(np.random.randn(10, 4))\n",
    "df"
   ]
  },
  {
   "cell_type": "code",
   "execution_count": 32,
   "id": "6f411496-24e3-45e4-bdb9-2df7cdc94678",
   "metadata": {
    "tags": []
   },
   "outputs": [
    {
     "data": {
      "text/html": [
       "<div>\n",
       "<style scoped>\n",
       "    .dataframe tbody tr th:only-of-type {\n",
       "        vertical-align: middle;\n",
       "    }\n",
       "\n",
       "    .dataframe tbody tr th {\n",
       "        vertical-align: top;\n",
       "    }\n",
       "\n",
       "    .dataframe thead th {\n",
       "        text-align: right;\n",
       "    }\n",
       "</style>\n",
       "<table border=\"1\" class=\"dataframe\">\n",
       "  <thead>\n",
       "    <tr style=\"text-align: right;\">\n",
       "      <th></th>\n",
       "      <th>0</th>\n",
       "      <th>1</th>\n",
       "      <th>2</th>\n",
       "      <th>3</th>\n",
       "    </tr>\n",
       "  </thead>\n",
       "  <tbody>\n",
       "    <tr>\n",
       "      <th>0</th>\n",
       "      <td>-0.021959</td>\n",
       "      <td>-0.027202</td>\n",
       "      <td>-1.204932</td>\n",
       "      <td>0.298547</td>\n",
       "    </tr>\n",
       "    <tr>\n",
       "      <th>1</th>\n",
       "      <td>0.475513</td>\n",
       "      <td>0.028036</td>\n",
       "      <td>-0.293977</td>\n",
       "      <td>-0.343672</td>\n",
       "    </tr>\n",
       "    <tr>\n",
       "      <th>2</th>\n",
       "      <td>-0.832573</td>\n",
       "      <td>0.618215</td>\n",
       "      <td>1.642646</td>\n",
       "      <td>0.791418</td>\n",
       "    </tr>\n",
       "    <tr>\n",
       "      <th>3</th>\n",
       "      <td>-0.431328</td>\n",
       "      <td>0.599712</td>\n",
       "      <td>-0.602314</td>\n",
       "      <td>-0.506019</td>\n",
       "    </tr>\n",
       "    <tr>\n",
       "      <th>4</th>\n",
       "      <td>-1.701176</td>\n",
       "      <td>0.421643</td>\n",
       "      <td>-1.601606</td>\n",
       "      <td>0.517526</td>\n",
       "    </tr>\n",
       "    <tr>\n",
       "      <th>7</th>\n",
       "      <td>-0.136702</td>\n",
       "      <td>0.532412</td>\n",
       "      <td>-0.174686</td>\n",
       "      <td>-0.253517</td>\n",
       "    </tr>\n",
       "    <tr>\n",
       "      <th>8</th>\n",
       "      <td>-2.240491</td>\n",
       "      <td>0.814609</td>\n",
       "      <td>-1.725717</td>\n",
       "      <td>-0.020140</td>\n",
       "    </tr>\n",
       "    <tr>\n",
       "      <th>9</th>\n",
       "      <td>0.537765</td>\n",
       "      <td>1.231488</td>\n",
       "      <td>0.265394</td>\n",
       "      <td>-1.159250</td>\n",
       "    </tr>\n",
       "  </tbody>\n",
       "</table>\n",
       "</div>"
      ],
      "text/plain": [
       "          0         1         2         3\n",
       "0 -0.021959 -0.027202 -1.204932  0.298547\n",
       "1  0.475513  0.028036 -0.293977 -0.343672\n",
       "2 -0.832573  0.618215  1.642646  0.791418\n",
       "3 -0.431328  0.599712 -0.602314 -0.506019\n",
       "4 -1.701176  0.421643 -1.601606  0.517526\n",
       "7 -0.136702  0.532412 -0.174686 -0.253517\n",
       "8 -2.240491  0.814609 -1.725717 -0.020140\n",
       "9  0.537765  1.231488  0.265394 -1.159250"
      ]
     },
     "execution_count": 32,
     "metadata": {},
     "output_type": "execute_result"
    }
   ],
   "source": [
    "pieces = [df[:3], df[3:5], df[7:]]\n",
    "pd.concat(pieces)"
   ]
  },
  {
   "cell_type": "markdown",
   "id": "a254820b-7746-46fb-9fe4-3220963f6537",
   "metadata": {},
   "source": [
    "Adding a column to a DataFrame is relatively fast. \n",
    "\n",
    "However, adding a row requires a copy, and may be expensive.\n",
    "\n",
    "We recommend passing a pre-built list of records to the DataFrame constructor instead of building a DataFrame by iteratively appending records to it."
   ]
  },
  {
   "cell_type": "code",
   "execution_count": 33,
   "id": "ebb66062-3ae3-4623-b956-a36c2a3f68c0",
   "metadata": {
    "tags": []
   },
   "outputs": [],
   "source": [
    "import matplotlib.pyplot as plt"
   ]
  },
  {
   "cell_type": "code",
   "execution_count": 34,
   "id": "ad9ee625-df77-4e10-b11f-2db45d62d4f6",
   "metadata": {
    "tags": []
   },
   "outputs": [
    {
     "data": {
      "image/png": "[encoded data removed]",
      "text/plain": [
       "<Figure size 640x480 with 1 Axes>"
      ]
     },
     "metadata": {},
     "output_type": "display_data"
    }
   ],
   "source": [
    "# Dataframe com dados gerados a partir de distribuição de probabilidades normal\n",
    "# de média 0 e variância 1\n",
    "ts = pd.Series(np.random.randn(1000), index=pd.date_range(\"01/01/2023\", periods=1000))\n",
    "# ts = ts.cumsum()\n",
    "ts.plot(grid=True);"
   ]
  },
  {
   "cell_type": "code",
   "execution_count": 35,
   "id": "3a4e06fc-0072-41cc-b265-dcd97966ac84",
   "metadata": {},
   "outputs": [
    {
     "data": {
      "text/plain": [
       "2023-01-01    1.314990\n",
       "2023-01-02    0.613564\n",
       "2023-01-03   -0.211774\n",
       "2023-01-04   -0.458500\n",
       "2023-01-05   -0.812610\n",
       "                ...   \n",
       "2025-09-22   -1.515902\n",
       "2025-09-23    0.329417\n",
       "2025-09-24    0.070160\n",
       "2025-09-25   -1.296494\n",
       "2025-09-26    1.109121\n",
       "Freq: D, Length: 1000, dtype: float64"
      ]
     },
     "execution_count": 35,
     "metadata": {},
     "output_type": "execute_result"
    }
   ],
   "source": [
    "ts"
   ]
  },
  {
   "cell_type": "code",
   "execution_count": 36,
   "id": "ae47a2ae-a066-464c-a821-a290755bff0c",
   "metadata": {},
   "outputs": [
    {
     "data": {
      "image/png": "[encoded data removed]",
      "text/plain": [
       "<Figure size 640x480 with 1 Axes>"
      ]
     },
     "metadata": {},
     "output_type": "display_data"
    }
   ],
   "source": [
    "ts.hist();"
   ]
  },
  {
   "cell_type": "code",
   "execution_count": null,
   "id": "aad39ea5-1275-4961-ace0-129c73dc45cd",
   "metadata": {},
   "outputs": [],
   "source": []
  }
 ],
 "metadata": {
  "kernelspec": {
   "display_name": "Python 3 (ipykernel)",
   "language": "python",
   "name": "python3"
  },
  "language_info": {
   "codemirror_mode": {
    "name": "ipython",
    "version": 3
   },
   "file_extension": ".py",
   "mimetype": "text/x-python",
   "name": "python",
   "nbconvert_exporter": "python",
   "pygments_lexer": "ipython3",
   "version": "3.9.13"
  }
 },
 "nbformat": 4,
 "nbformat_minor": 5
}
